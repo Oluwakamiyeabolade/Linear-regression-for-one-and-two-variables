{
  "nbformat": 4,
  "nbformat_minor": 0,
  "metadata": {
    "colab": {
      "provenance": []
    },
    "kernelspec": {
      "name": "python3",
      "display_name": "Python 3"
    },
    "language_info": {
      "name": "python"
    }
  },
  "cells": [
    {
      "cell_type": "markdown",
      "source": [
        "NAME: RACHAEL OLUWAKAMIYE ADELEKE\n",
      
      ],
      "metadata": {
        "id": "gTJ88oJJRr7t"
      }
    },
    {
      "cell_type": "markdown",
      "source": [
        "Linear regression with one variable\n",
        "Task1: Predict profits for a food truck, suppose you’re the CEO of a restaurant franchise and are considering different cities for opening a new outlet. The chain already has trucks in various cities, and you have data for profits and populations from the cities.\n",
        "You would like to use this data to help you select which city to expand to next. The file ex1data1.txt contains the dataset for our linear regression problem. The first column is the population of a city, and the second column is the profit of a food truck in that city. A negative value for profit indicates a loss.\n"
      ],
      "metadata": {
        "id": "MbDMufOmRjb-"
      }
    },
    {
      "cell_type": "code",
      "execution_count": 5,
      "metadata": {
        "id": "5dxBau6rvIMG"
      },
      "outputs": [],
      "source": [
        "import numpy as np # linear algebra\n",
        "import pandas as pd # data processing, CSV file\n",
        "import matplotlib.pyplot as plt"
      ]
    },
    {
      "cell_type": "code",
      "source": [
        "from google.colab import files\n",
        "uploaded = files.upload()"
      ],
      "metadata": {
        "colab": {
          "base_uri": "https://localhost:8080/",
          "height": 73
        },
        "id": "8YRfjj_KvWT8",
        "outputId": "a17d3429-ab23-4f33-98c9-748b1f942079"
      },
      "execution_count": 3,
      "outputs": [
        {
          "output_type": "display_data",
          "data": {
            "text/plain": [
              "<IPython.core.display.HTML object>"
            ],
            "text/html": [
              "\n",
              "     <input type=\"file\" id=\"files-fe56b5c1-5590-41f0-803a-2e6b8fd6d1e2\" name=\"files[]\" multiple disabled\n",
              "        style=\"border:none\" />\n",
              "     <output id=\"result-fe56b5c1-5590-41f0-803a-2e6b8fd6d1e2\">\n",
              "      Upload widget is only available when the cell has been executed in the\n",
              "      current browser session. Please rerun this cell to enable.\n",
              "      </output>\n",
              "      <script>// Copyright 2017 Google LLC\n",
              "//\n",
              "// Licensed under the Apache License, Version 2.0 (the \"License\");\n",
              "// you may not use this file except in compliance with the License.\n",
              "// You may obtain a copy of the License at\n",
              "//\n",
              "//      http://www.apache.org/licenses/LICENSE-2.0\n",
              "//\n",
              "// Unless required by applicable law or agreed to in writing, software\n",
              "// distributed under the License is distributed on an \"AS IS\" BASIS,\n",
              "// WITHOUT WARRANTIES OR CONDITIONS OF ANY KIND, either express or implied.\n",
              "// See the License for the specific language governing permissions and\n",
              "// limitations under the License.\n",
              "\n",
              "/**\n",
              " * @fileoverview Helpers for google.colab Python module.\n",
              " */\n",
              "(function(scope) {\n",
              "function span(text, styleAttributes = {}) {\n",
              "  const element = document.createElement('span');\n",
              "  element.textContent = text;\n",
              "  for (const key of Object.keys(styleAttributes)) {\n",
              "    element.style[key] = styleAttributes[key];\n",
              "  }\n",
              "  return element;\n",
              "}\n",
              "\n",
              "// Max number of bytes which will be uploaded at a time.\n",
              "const MAX_PAYLOAD_SIZE = 100 * 1024;\n",
              "\n",
              "function _uploadFiles(inputId, outputId) {\n",
              "  const steps = uploadFilesStep(inputId, outputId);\n",
              "  const outputElement = document.getElementById(outputId);\n",
              "  // Cache steps on the outputElement to make it available for the next call\n",
              "  // to uploadFilesContinue from Python.\n",
              "  outputElement.steps = steps;\n",
              "\n",
              "  return _uploadFilesContinue(outputId);\n",
              "}\n",
              "\n",
              "// This is roughly an async generator (not supported in the browser yet),\n",
              "// where there are multiple asynchronous steps and the Python side is going\n",
              "// to poll for completion of each step.\n",
              "// This uses a Promise to block the python side on completion of each step,\n",
              "// then passes the result of the previous step as the input to the next step.\n",
              "function _uploadFilesContinue(outputId) {\n",
              "  const outputElement = document.getElementById(outputId);\n",
              "  const steps = outputElement.steps;\n",
              "\n",
              "  const next = steps.next(outputElement.lastPromiseValue);\n",
              "  return Promise.resolve(next.value.promise).then((value) => {\n",
              "    // Cache the last promise value to make it available to the next\n",
              "    // step of the generator.\n",
              "    outputElement.lastPromiseValue = value;\n",
              "    return next.value.response;\n",
              "  });\n",
              "}\n",
              "\n",
              "/**\n",
              " * Generator function which is called between each async step of the upload\n",
              " * process.\n",
              " * @param {string} inputId Element ID of the input file picker element.\n",
              " * @param {string} outputId Element ID of the output display.\n",
              " * @return {!Iterable<!Object>} Iterable of next steps.\n",
              " */\n",
              "function* uploadFilesStep(inputId, outputId) {\n",
              "  const inputElement = document.getElementById(inputId);\n",
              "  inputElement.disabled = false;\n",
              "\n",
              "  const outputElement = document.getElementById(outputId);\n",
              "  outputElement.innerHTML = '';\n",
              "\n",
              "  const pickedPromise = new Promise((resolve) => {\n",
              "    inputElement.addEventListener('change', (e) => {\n",
              "      resolve(e.target.files);\n",
              "    });\n",
              "  });\n",
              "\n",
              "  const cancel = document.createElement('button');\n",
              "  inputElement.parentElement.appendChild(cancel);\n",
              "  cancel.textContent = 'Cancel upload';\n",
              "  const cancelPromise = new Promise((resolve) => {\n",
              "    cancel.onclick = () => {\n",
              "      resolve(null);\n",
              "    };\n",
              "  });\n",
              "\n",
              "  // Wait for the user to pick the files.\n",
              "  const files = yield {\n",
              "    promise: Promise.race([pickedPromise, cancelPromise]),\n",
              "    response: {\n",
              "      action: 'starting',\n",
              "    }\n",
              "  };\n",
              "\n",
              "  cancel.remove();\n",
              "\n",
              "  // Disable the input element since further picks are not allowed.\n",
              "  inputElement.disabled = true;\n",
              "\n",
              "  if (!files) {\n",
              "    return {\n",
              "      response: {\n",
              "        action: 'complete',\n",
              "      }\n",
              "    };\n",
              "  }\n",
              "\n",
              "  for (const file of files) {\n",
              "    const li = document.createElement('li');\n",
              "    li.append(span(file.name, {fontWeight: 'bold'}));\n",
              "    li.append(span(\n",
              "        `(${file.type || 'n/a'}) - ${file.size} bytes, ` +\n",
              "        `last modified: ${\n",
              "            file.lastModifiedDate ? file.lastModifiedDate.toLocaleDateString() :\n",
              "                                    'n/a'} - `));\n",
              "    const percent = span('0% done');\n",
              "    li.appendChild(percent);\n",
              "\n",
              "    outputElement.appendChild(li);\n",
              "\n",
              "    const fileDataPromise = new Promise((resolve) => {\n",
              "      const reader = new FileReader();\n",
              "      reader.onload = (e) => {\n",
              "        resolve(e.target.result);\n",
              "      };\n",
              "      reader.readAsArrayBuffer(file);\n",
              "    });\n",
              "    // Wait for the data to be ready.\n",
              "    let fileData = yield {\n",
              "      promise: fileDataPromise,\n",
              "      response: {\n",
              "        action: 'continue',\n",
              "      }\n",
              "    };\n",
              "\n",
              "    // Use a chunked sending to avoid message size limits. See b/62115660.\n",
              "    let position = 0;\n",
              "    do {\n",
              "      const length = Math.min(fileData.byteLength - position, MAX_PAYLOAD_SIZE);\n",
              "      const chunk = new Uint8Array(fileData, position, length);\n",
              "      position += length;\n",
              "\n",
              "      const base64 = btoa(String.fromCharCode.apply(null, chunk));\n",
              "      yield {\n",
              "        response: {\n",
              "          action: 'append',\n",
              "          file: file.name,\n",
              "          data: base64,\n",
              "        },\n",
              "      };\n",
              "\n",
              "      let percentDone = fileData.byteLength === 0 ?\n",
              "          100 :\n",
              "          Math.round((position / fileData.byteLength) * 100);\n",
              "      percent.textContent = `${percentDone}% done`;\n",
              "\n",
              "    } while (position < fileData.byteLength);\n",
              "  }\n",
              "\n",
              "  // All done.\n",
              "  yield {\n",
              "    response: {\n",
              "      action: 'complete',\n",
              "    }\n",
              "  };\n",
              "}\n",
              "\n",
              "scope.google = scope.google || {};\n",
              "scope.google.colab = scope.google.colab || {};\n",
              "scope.google.colab._files = {\n",
              "  _uploadFiles,\n",
              "  _uploadFilesContinue,\n",
              "};\n",
              "})(self);\n",
              "</script> "
            ]
          },
          "metadata": {}
        },
        {
          "output_type": "stream",
          "name": "stdout",
          "text": [
            "Saving ex1data.txt to ex1data.txt\n"
          ]
        }
      ]
    },
    {
      "cell_type": "code",
      "source": [
        "df=pd.read_csv('ex1data.txt', header = None, names=['Population', 'Profit']) #read from the dataset\n",
        "df.head()"
      ],
      "metadata": {
        "colab": {
          "base_uri": "https://localhost:8080/",
          "height": 206
        },
        "id": "EXTXSggcvqE_",
        "outputId": "a1eb875b-766b-45c4-c917-1de918d99a2a"
      },
      "execution_count": 4,
      "outputs": [
        {
          "output_type": "execute_result",
          "data": {
            "text/plain": [
              "   Population   Profit\n",
              "0      6.1101  17.5920\n",
              "1      5.5277   9.1302\n",
              "2      8.5186  13.6620\n",
              "3      7.0032  11.8540\n",
              "4      5.8598   6.8233"
            ],
            "text/html": [
              "\n",
              "  <div id=\"df-a4e74b1e-1358-4716-ab83-2c0f45d880b7\" class=\"colab-df-container\">\n",
              "    <div>\n",
              "<style scoped>\n",
              "    .dataframe tbody tr th:only-of-type {\n",
              "        vertical-align: middle;\n",
              "    }\n",
              "\n",
              "    .dataframe tbody tr th {\n",
              "        vertical-align: top;\n",
              "    }\n",
              "\n",
              "    .dataframe thead th {\n",
              "        text-align: right;\n",
              "    }\n",
              "</style>\n",
              "<table border=\"1\" class=\"dataframe\">\n",
              "  <thead>\n",
              "    <tr style=\"text-align: right;\">\n",
              "      <th></th>\n",
              "      <th>Population</th>\n",
              "      <th>Profit</th>\n",
              "    </tr>\n",
              "  </thead>\n",
              "  <tbody>\n",
              "    <tr>\n",
              "      <th>0</th>\n",
              "      <td>6.1101</td>\n",
              "      <td>17.5920</td>\n",
              "    </tr>\n",
              "    <tr>\n",
              "      <th>1</th>\n",
              "      <td>5.5277</td>\n",
              "      <td>9.1302</td>\n",
              "    </tr>\n",
              "    <tr>\n",
              "      <th>2</th>\n",
              "      <td>8.5186</td>\n",
              "      <td>13.6620</td>\n",
              "    </tr>\n",
              "    <tr>\n",
              "      <th>3</th>\n",
              "      <td>7.0032</td>\n",
              "      <td>11.8540</td>\n",
              "    </tr>\n",
              "    <tr>\n",
              "      <th>4</th>\n",
              "      <td>5.8598</td>\n",
              "      <td>6.8233</td>\n",
              "    </tr>\n",
              "  </tbody>\n",
              "</table>\n",
              "</div>\n",
              "    <div class=\"colab-df-buttons\">\n",
              "\n",
              "  <div class=\"colab-df-container\">\n",
              "    <button class=\"colab-df-convert\" onclick=\"convertToInteractive('df-a4e74b1e-1358-4716-ab83-2c0f45d880b7')\"\n",
              "            title=\"Convert this dataframe to an interactive table.\"\n",
              "            style=\"display:none;\">\n",
              "\n",
              "  <svg xmlns=\"http://www.w3.org/2000/svg\" height=\"24px\" viewBox=\"0 -960 960 960\">\n",
              "    <path d=\"M120-120v-720h720v720H120Zm60-500h600v-160H180v160Zm220 220h160v-160H400v160Zm0 220h160v-160H400v160ZM180-400h160v-160H180v160Zm440 0h160v-160H620v160ZM180-180h160v-160H180v160Zm440 0h160v-160H620v160Z\"/>\n",
              "  </svg>\n",
              "    </button>\n",
              "\n",
              "  <style>\n",
              "    .colab-df-container {\n",
              "      display:flex;\n",
              "      gap: 12px;\n",
              "    }\n",
              "\n",
              "    .colab-df-convert {\n",
              "      background-color: #E8F0FE;\n",
              "      border: none;\n",
              "      border-radius: 50%;\n",
              "      cursor: pointer;\n",
              "      display: none;\n",
              "      fill: #1967D2;\n",
              "      height: 32px;\n",
              "      padding: 0 0 0 0;\n",
              "      width: 32px;\n",
              "    }\n",
              "\n",
              "    .colab-df-convert:hover {\n",
              "      background-color: #E2EBFA;\n",
              "      box-shadow: 0px 1px 2px rgba(60, 64, 67, 0.3), 0px 1px 3px 1px rgba(60, 64, 67, 0.15);\n",
              "      fill: #174EA6;\n",
              "    }\n",
              "\n",
              "    .colab-df-buttons div {\n",
              "      margin-bottom: 4px;\n",
              "    }\n",
              "\n",
              "    [theme=dark] .colab-df-convert {\n",
              "      background-color: #3B4455;\n",
              "      fill: #D2E3FC;\n",
              "    }\n",
              "\n",
              "    [theme=dark] .colab-df-convert:hover {\n",
              "      background-color: #434B5C;\n",
              "      box-shadow: 0px 1px 3px 1px rgba(0, 0, 0, 0.15);\n",
              "      filter: drop-shadow(0px 1px 2px rgba(0, 0, 0, 0.3));\n",
              "      fill: #FFFFFF;\n",
              "    }\n",
              "  </style>\n",
              "\n",
              "    <script>\n",
              "      const buttonEl =\n",
              "        document.querySelector('#df-a4e74b1e-1358-4716-ab83-2c0f45d880b7 button.colab-df-convert');\n",
              "      buttonEl.style.display =\n",
              "        google.colab.kernel.accessAllowed ? 'block' : 'none';\n",
              "\n",
              "      async function convertToInteractive(key) {\n",
              "        const element = document.querySelector('#df-a4e74b1e-1358-4716-ab83-2c0f45d880b7');\n",
              "        const dataTable =\n",
              "          await google.colab.kernel.invokeFunction('convertToInteractive',\n",
              "                                                    [key], {});\n",
              "        if (!dataTable) return;\n",
              "\n",
              "        const docLinkHtml = 'Like what you see? Visit the ' +\n",
              "          '<a target=\"_blank\" href=https://colab.research.google.com/notebooks/data_table.ipynb>data table notebook</a>'\n",
              "          + ' to learn more about interactive tables.';\n",
              "        element.innerHTML = '';\n",
              "        dataTable['output_type'] = 'display_data';\n",
              "        await google.colab.output.renderOutput(dataTable, element);\n",
              "        const docLink = document.createElement('div');\n",
              "        docLink.innerHTML = docLinkHtml;\n",
              "        element.appendChild(docLink);\n",
              "      }\n",
              "    </script>\n",
              "  </div>\n",
              "\n",
              "\n",
              "<div id=\"df-b4f65548-8ef8-46f5-bd5c-a35277aa3f0f\">\n",
              "  <button class=\"colab-df-quickchart\" onclick=\"quickchart('df-b4f65548-8ef8-46f5-bd5c-a35277aa3f0f')\"\n",
              "            title=\"Suggest charts\"\n",
              "            style=\"display:none;\">\n",
              "\n",
              "<svg xmlns=\"http://www.w3.org/2000/svg\" height=\"24px\"viewBox=\"0 0 24 24\"\n",
              "     width=\"24px\">\n",
              "    <g>\n",
              "        <path d=\"M19 3H5c-1.1 0-2 .9-2 2v14c0 1.1.9 2 2 2h14c1.1 0 2-.9 2-2V5c0-1.1-.9-2-2-2zM9 17H7v-7h2v7zm4 0h-2V7h2v10zm4 0h-2v-4h2v4z\"/>\n",
              "    </g>\n",
              "</svg>\n",
              "  </button>\n",
              "\n",
              "<style>\n",
              "  .colab-df-quickchart {\n",
              "      --bg-color: #E8F0FE;\n",
              "      --fill-color: #1967D2;\n",
              "      --hover-bg-color: #E2EBFA;\n",
              "      --hover-fill-color: #174EA6;\n",
              "      --disabled-fill-color: #AAA;\n",
              "      --disabled-bg-color: #DDD;\n",
              "  }\n",
              "\n",
              "  [theme=dark] .colab-df-quickchart {\n",
              "      --bg-color: #3B4455;\n",
              "      --fill-color: #D2E3FC;\n",
              "      --hover-bg-color: #434B5C;\n",
              "      --hover-fill-color: #FFFFFF;\n",
              "      --disabled-bg-color: #3B4455;\n",
              "      --disabled-fill-color: #666;\n",
              "  }\n",
              "\n",
              "  .colab-df-quickchart {\n",
              "    background-color: var(--bg-color);\n",
              "    border: none;\n",
              "    border-radius: 50%;\n",
              "    cursor: pointer;\n",
              "    display: none;\n",
              "    fill: var(--fill-color);\n",
              "    height: 32px;\n",
              "    padding: 0;\n",
              "    width: 32px;\n",
              "  }\n",
              "\n",
              "  .colab-df-quickchart:hover {\n",
              "    background-color: var(--hover-bg-color);\n",
              "    box-shadow: 0 1px 2px rgba(60, 64, 67, 0.3), 0 1px 3px 1px rgba(60, 64, 67, 0.15);\n",
              "    fill: var(--button-hover-fill-color);\n",
              "  }\n",
              "\n",
              "  .colab-df-quickchart-complete:disabled,\n",
              "  .colab-df-quickchart-complete:disabled:hover {\n",
              "    background-color: var(--disabled-bg-color);\n",
              "    fill: var(--disabled-fill-color);\n",
              "    box-shadow: none;\n",
              "  }\n",
              "\n",
              "  .colab-df-spinner {\n",
              "    border: 2px solid var(--fill-color);\n",
              "    border-color: transparent;\n",
              "    border-bottom-color: var(--fill-color);\n",
              "    animation:\n",
              "      spin 1s steps(1) infinite;\n",
              "  }\n",
              "\n",
              "  @keyframes spin {\n",
              "    0% {\n",
              "      border-color: transparent;\n",
              "      border-bottom-color: var(--fill-color);\n",
              "      border-left-color: var(--fill-color);\n",
              "    }\n",
              "    20% {\n",
              "      border-color: transparent;\n",
              "      border-left-color: var(--fill-color);\n",
              "      border-top-color: var(--fill-color);\n",
              "    }\n",
              "    30% {\n",
              "      border-color: transparent;\n",
              "      border-left-color: var(--fill-color);\n",
              "      border-top-color: var(--fill-color);\n",
              "      border-right-color: var(--fill-color);\n",
              "    }\n",
              "    40% {\n",
              "      border-color: transparent;\n",
              "      border-right-color: var(--fill-color);\n",
              "      border-top-color: var(--fill-color);\n",
              "    }\n",
              "    60% {\n",
              "      border-color: transparent;\n",
              "      border-right-color: var(--fill-color);\n",
              "    }\n",
              "    80% {\n",
              "      border-color: transparent;\n",
              "      border-right-color: var(--fill-color);\n",
              "      border-bottom-color: var(--fill-color);\n",
              "    }\n",
              "    90% {\n",
              "      border-color: transparent;\n",
              "      border-bottom-color: var(--fill-color);\n",
              "    }\n",
              "  }\n",
              "</style>\n",
              "\n",
              "  <script>\n",
              "    async function quickchart(key) {\n",
              "      const quickchartButtonEl =\n",
              "        document.querySelector('#' + key + ' button');\n",
              "      quickchartButtonEl.disabled = true;  // To prevent multiple clicks.\n",
              "      quickchartButtonEl.classList.add('colab-df-spinner');\n",
              "      try {\n",
              "        const charts = await google.colab.kernel.invokeFunction(\n",
              "            'suggestCharts', [key], {});\n",
              "      } catch (error) {\n",
              "        console.error('Error during call to suggestCharts:', error);\n",
              "      }\n",
              "      quickchartButtonEl.classList.remove('colab-df-spinner');\n",
              "      quickchartButtonEl.classList.add('colab-df-quickchart-complete');\n",
              "    }\n",
              "    (() => {\n",
              "      let quickchartButtonEl =\n",
              "        document.querySelector('#df-b4f65548-8ef8-46f5-bd5c-a35277aa3f0f button');\n",
              "      quickchartButtonEl.style.display =\n",
              "        google.colab.kernel.accessAllowed ? 'block' : 'none';\n",
              "    })();\n",
              "  </script>\n",
              "</div>\n",
              "    </div>\n",
              "  </div>\n"
            ]
          },
          "metadata": {},
          "execution_count": 4
        }
      ]
    },
    {
      "cell_type": "code",
      "source": [
        "df.size"
      ],
      "metadata": {
        "colab": {
          "base_uri": "https://localhost:8080/"
        },
        "id": "4N90tmINv8Cd",
        "outputId": "24646d46-0290-4580-87ac-62b466d401c8"
      },
      "execution_count": 7,
      "outputs": [
        {
          "output_type": "execute_result",
          "data": {
            "text/plain": [
              "194"
            ]
          },
          "metadata": {},
          "execution_count": 7
        }
      ]
    },
    {
      "cell_type": "code",
      "source": [
        "X = np.array(df.iloc[:,0]) #read first column\n",
        "y = np.array(df.iloc[:,1]) #read second column\n",
        "\n",
        "m = len(y)\n",
        "print(m)                #Number of training examples"
      ],
      "metadata": {
        "colab": {
          "base_uri": "https://localhost:8080/"
        },
        "id": "svdM7c4tv_W4",
        "outputId": "9baa2225-0b47-4f9b-aabe-0bb7d4603495"
      },
      "execution_count": 10,
      "outputs": [
        {
          "output_type": "stream",
          "name": "stdout",
          "text": [
            "97\n"
          ]
        }
      ]
    },
    {
      "cell_type": "code",
      "source": [
        "plt.scatter(X,y, marker='x')\n",
        "plt.title(\"Profit Vs Population\")\n",
        "plt.xlabel('Population')\n",
        "plt.ylabel('Profit')\n",
        "plt.show()"
      ],
      "metadata": {
        "colab": {
          "base_uri": "https://localhost:8080/",
          "height": 472
        },
        "id": "p7IeSwoKwmGh",
        "outputId": "c620acfd-f8da-443b-a934-f99fb4731221"
      },
      "execution_count": 16,
      "outputs": [
        {
          "output_type": "display_data",
          "data": {
            "text/plain": [
              "<Figure size 640x480 with 1 Axes>"
            ],
            "image/png": "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\n"
          },
          "metadata": {}
        }
      ]
    },
    {
      "cell_type": "markdown",
      "source": [
        " It is shown that there's a cluster of values around cities with smaller populations, and a somewhat linear trend of increasing profit as the size of the city increases.\n",
        "\n",
        "\n",
        "\n",
        "\n",
        "\n"
      ],
      "metadata": {
        "id": "JuT0nX_9UGrI"
      }
    },
    {
      "cell_type": "code",
      "source": [
        "#Gradient descent\n",
        "# adding the intercept term\n",
        "ones = np.ones((m,1))\n",
        "# Add a column of ones to X. The numpy function stack joins arrays along a given axis.\n",
        "# The first axis (axis=0) refers to rows (training examples)\n",
        "# and second axis (axis=1) refers to columns (features).\n",
        "X = np.stack([np.ones(m), X], axis=1)\n"
      ],
      "metadata": {
        "id": "pHq-Ny9txNis"
      },
      "execution_count": 22,
      "outputs": []
    },
    {
      "cell_type": "markdown",
      "source": [
        "Implementing simple linear regression, we could accurately predict what the outcome y would be without actually knowing what y is.\n",
        "\n",
        "In this implementation the optimization technique called gradient descent will be used to find the parameters theta.\n"
      ],
      "metadata": {
        "id": "2ZMaxlWeVaus"
      }
    },
    {
      "cell_type": "markdown",
      "source": [
        "The first thing we need is a cost function. The cost function evaluates the quality of our model by calculating the error between our model's prediction for a data point, using the model parameters, and the actual data point."
      ],
      "metadata": {
        "id": "ccj7yI2IVo3c"
      }
    },
    {
      "cell_type": "code",
      "source": [
        "#Testing the cost function\n",
        "def computeCost(X,y,theta):\n",
        "    J = (np.sum(np.power((np.dot(X, theta) - y),2)))/(2*m)\n",
        "    return J"
      ],
      "metadata": {
        "id": "nMt-3bhFxb_7"
      },
      "execution_count": 23,
      "outputs": []
    },
    {
      "cell_type": "code",
      "source": [
        "#compute and display initial cost\n",
        "theta = np.zeros(2)\n",
        "J = computeCost(X, y, theta)\n",
        "print('With theta = [0, 0] \\nCost computed = %.2f' % J)"
      ],
      "metadata": {
        "colab": {
          "base_uri": "https://localhost:8080/"
        },
        "id": "ZzWUtPLSxpgu",
        "outputId": "cdfd0c91-ae43-45a5-ac47-56df46c50a88"
      },
      "execution_count": 38,
      "outputs": [
        {
          "output_type": "stream",
          "name": "stdout",
          "text": [
            "With theta = [0, 0] \n",
            "Cost computed = 32.07\n"
          ]
        }
      ]
    },
    {
      "cell_type": "markdown",
      "source": [
        "The parameters were initialized to 0 so the solution isn't optimal yet, but we can see if it works."
      ],
      "metadata": {
        "id": "6WUFa73oXaRO"
      }
    },
    {
      "cell_type": "code",
      "source": [
        "def gradientDescent(X,y,theta,alpha,iterations):\n",
        "    m = y.size\n",
        "    J_history = np.zeros(iterations)\n",
        "\n",
        "    for i in np.arange(iterations):\n",
        "        h = X.dot(theta)\n",
        "        theta = theta - alpha * (1/m) * (X.T.dot(h-y))\n",
        "        J_history[i] = computeCost(X,y,theta)\n",
        "    return(theta, J_history)"
      ],
      "metadata": {
        "id": "EwkaEbwzyOcO"
      },
      "execution_count": 39,
      "outputs": []
    },
    {
      "cell_type": "markdown",
      "source": [
        "The idea with gradient descent is that for each iteration, we compute the gradient of the error term in order to figure out the appropriate direction to move our parameter vector. In other words, we're calculating the changes to make to our parameters in order to reduce the error, thus bringing our solution closer to the optimal solution (i.e best fit)."
      ],
      "metadata": {
        "id": "WzaAQm-MYeb7"
      }
    },
    {
      "cell_type": "markdown",
      "source": [
        "Applying this to the data set."
      ],
      "metadata": {
        "id": "mbiHEUo_ZS92"
      }
    },
    {
      "cell_type": "code",
      "source": [
        "# initialize variables for learning rate and iterations\n",
        "print('\\nRunning Gradient Descent ...\\n')\n",
        "iterations = 1500\n",
        "alpha = 0.01\n",
        "\n",
        "# perform gradient descent to \"fit\" the model parameters\n",
        "theta, Cost_J = gradientDescent(X, y, theta, alpha, iterations)\n",
        "print('theta:', theta.ravel())\n",
        "\n"
      ],
      "metadata": {
        "colab": {
          "base_uri": "https://localhost:8080/"
        },
        "id": "nGtm5TIVyRRv",
        "outputId": "1da3aa41-65d2-4aac-a809-4497382669cf"
      },
      "execution_count": 40,
      "outputs": [
        {
          "output_type": "stream",
          "name": "stdout",
          "text": [
            "\n",
            "Running Gradient Descent ...\n",
            "\n",
            "theta: [-3.63029144  1.16636235]\n"
          ]
        }
      ]
    },
    {
      "cell_type": "markdown",
      "source": [
        "Alpha is the learning rate - it's a factor in the update rule for the parameters that helps determine how quickly the algorithm will converge to the optimal solution.\n",
        "Iters is just the number of iterations. There is no hard and fast rule for how to initialize these parameters and typically some trial-and-error is involved.\n",
        "\n"
      ],
      "metadata": {
        "id": "-GsKc4w4Z7Ga"
      }
    },
    {
      "cell_type": "code",
      "source": [
        "J = computeCost(X, y, theta);\n",
        "print('cost function with optimized value of theta: ',J)"
      ],
      "metadata": {
        "colab": {
          "base_uri": "https://localhost:8080/"
        },
        "id": "7mgqKfXmynwP",
        "outputId": "ffe9d08c-c49b-4119-ab88-1e9755b091a1"
      },
      "execution_count": 41,
      "outputs": [
        {
          "output_type": "stream",
          "name": "stdout",
          "text": [
            "cost function with optimized value of theta:  4.483388256587726\n"
          ]
        }
      ]
    },
    {
      "cell_type": "markdown",
      "source": [
        "This is a parameter vector descibing what we believe is the optimal linear model for our data set. To quickly evaluate just how good our regression model is, we look at the total error of our new solution on the data set:"
      ],
      "metadata": {
        "id": "XSGz6hF6Jr7j"
      }
    },
    {
      "cell_type": "markdown",
      "source": [
        "The matplotlib to visualize our solution and evaluate those points using our model to see what the expected profit would be."
      ],
      "metadata": {
        "id": "co4x4lj6aZKx"
      }
    },
    {
      "cell_type": "code",
      "source": [
        "plt.scatter(X[:,1],y, marker='x', label = 'Training Data')\n",
        "plt.title('Population vs Profit')\n",
        "plt.xlabel('Population')\n",
        "plt.ylabel('Profit')\n",
        "plt.plot(X[:,1],X.dot(theta),color='black',label='Prediction: h(x) = %0.2f + %0.2fx'%(theta[0],theta[1]))\n",
        "plt.legend(loc='best')\n",
        "plt.show()"
      ],
      "metadata": {
        "colab": {
          "base_uri": "https://localhost:8080/",
          "height": 472
        },
        "id": "VoPxEaCpy1Qz",
        "outputId": "62d902b9-d097-481b-a1b9-bef01f8a1429"
      },
      "execution_count": 42,
      "outputs": [
        {
          "output_type": "display_data",
          "data": {
            "text/plain": [
              "<Figure size 640x480 with 1 Axes>"
            ],
            "image/png": "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\n"
          },
          "metadata": {}
        }
      ]
    },
    {
      "cell_type": "markdown",
      "source": [
        "The graph solution looks like and optimal linear model of the data set. Since the gradient decent function also outputs a vector with the cost at each training iteration, we can plot that as well."
      ],
      "metadata": {
        "id": "FiPVbfp4cqYg"
      }
    },
    {
      "cell_type": "code",
      "source": [
        "plt.plot(Cost_J)\n",
        "plt.xlabel('Iterations')\n",
        "plt.ylabel('Cost_J')\n",
        "plt.show()"
      ],
      "metadata": {
        "colab": {
          "base_uri": "https://localhost:8080/",
          "height": 449
        },
        "id": "0AHwWkrlcZK5",
        "outputId": "f0081b43-6117-40cd-ef40-d420136e7f5c"
      },
      "execution_count": 44,
      "outputs": [
        {
          "output_type": "display_data",
          "data": {
            "text/plain": [
              "<Figure size 640x480 with 1 Axes>"
            ],
            "image/png": "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\n"
          },
          "metadata": {}
        }
      ]
    },
    {
      "cell_type": "markdown",
      "source": [
        "The cost always decreases."
      ],
      "metadata": {
        "id": "QVNBvArwc7Y9"
      }
    },
    {
      "cell_type": "markdown",
      "source": [
        "TASK 2:\n",
        "Linear regression with multiple variables\n",
        "Task2: Suppose you are selling your house, and you want to know what a good market price would be. One way to do this is to first collect information on recent houses sold and make a model of housing prices. The file ex1data2.txt contains a training set of housing prices in Portland, Oregon. The first column is the size of the house (in square feet), the second column is the number of bedrooms, and the third column is the price of the house.\n"
      ],
      "metadata": {
        "id": "yGSd0R-EyQwC"
      }
    },
    {
      "cell_type": "code",
      "source": [
        "from numpy import loadtxt, zeros, ones, array, linspace, logspace, mean, std, arange\n",
        "from mpl_toolkits.mplot3d import Axes3D\n",
        "import matplotlib.pyplot as plt\n",
        "from pylab import plot, show, xlabel, ylabel"
      ],
      "metadata": {
        "id": "K9qUMgvUl4NS"
      },
      "execution_count": 70,
      "outputs": []
    },
    {
      "cell_type": "code",
      "source": [
        "def feature_normalize(X):\n",
        "  mean_r = []\n",
        "  std_r = []\n",
        "  X_norm = X\n",
        "  n_c = X.shape[1]\n",
        "  for i in range(n_c):\n",
        "        m = mean(X[:, i])\n",
        "        s = std(X[:, i])\n",
        "        mean_r.append(m)\n",
        "        std_r.append(s)\n",
        "        X_norm[:, i] = (X_norm[:, i] - m) / s\n",
        "  return X_norm, mean_r, std_r"
      ],
      "metadata": {
        "id": "xMd5NmZcl4Ez"
      },
      "execution_count": 69,
      "outputs": []
    },
    {
      "cell_type": "markdown",
      "source": [
        "feature normalization adjusts the scale of the features to level the scale. One way to do this is by subtracting from each value in a feature the mean of that feature, and then dividing by the standard deviation. The code Returns a normalized version of X where the mean value of each feature is 0 and the standard deviation is 1"
      ],
      "metadata": {
        "id": "t4aGMt02mCEF"
      }
    },
    {
      "cell_type": "code",
      "source": [
        "def compute_cost(X, y, theta):\n",
        "  m = y.size #Number of Training Samples\n",
        "\n",
        "  predictions = X.dot(theta)\n",
        "\n",
        "  sqErrors = (predictions - y)\n",
        "\n",
        "  J = (1.0 / (2 * m)) * sqErrors.T.dot(sqErrors)\n",
        "\n",
        "  return J"
      ],
      "metadata": {
        "id": "ktBGuIiGl38v"
      },
      "execution_count": 68,
      "outputs": []
    },
    {
      "cell_type": "markdown",
      "source": [
        "This code Computes cost for linear regression"
      ],
      "metadata": {
        "id": "76yn3PmXmOda"
      }
    },
    {
      "cell_type": "code",
      "source": [
        "def gradient_descent(X, y, theta, alpha, num_iters):\n",
        "  m = y.size #Number of training samples\n",
        "  J_history = zeros(shape=(num_iters, 1))\n",
        "\n",
        "  for i in range(num_iters):\n",
        "     predictions = X.dot(theta)\n",
        "     theta_size = theta.size\n",
        "     for it in range(theta_size):\n",
        "\n",
        "            temp = X[:, it]\n",
        "            temp.shape = (m, 1)\n",
        "\n",
        "            errors_x1 = (predictions - y) * temp\n",
        "\n",
        "            theta[it][0] = theta[it][0] - alpha * (1.0 / m) * errors_x1.sum()\n",
        "\n",
        "     J_history[i, 0] = compute_cost(X, y, theta)\n",
        "  return theta, J_history\n",
        "\n"
      ],
      "metadata": {
        "id": "mIDkPYeql31v"
      },
      "execution_count": 75,
      "outputs": []
    },
    {
      "cell_type": "markdown",
      "source": [
        "Performs gradient descent to learn thetaby taking num_items gradient steps with learning rate alpha"
      ],
      "metadata": {
        "id": "uMLdnILWmgpr"
      }
    },
    {
      "cell_type": "code",
      "source": [
        "from google.colab import files\n",
        "uploaded = files.upload()\n",
        "data = loadtxt('ex2data.txt', delimiter=',')\n",
        "\n"
      ],
      "metadata": {
        "colab": {
          "base_uri": "https://localhost:8080/",
          "height": 73
        },
        "id": "VSPICaRSl3iw",
        "outputId": "2ba6ad04-6230-4a51-87be-e54e9aa94243"
      },
      "execution_count": 79,
      "outputs": [
        {
          "output_type": "display_data",
          "data": {
            "text/plain": [
              "<IPython.core.display.HTML object>"
            ],
            "text/html": [
              "\n",
              "     <input type=\"file\" id=\"files-3d46a036-dd96-4380-a9b5-7987905b8627\" name=\"files[]\" multiple disabled\n",
              "        style=\"border:none\" />\n",
              "     <output id=\"result-3d46a036-dd96-4380-a9b5-7987905b8627\">\n",
              "      Upload widget is only available when the cell has been executed in the\n",
              "      current browser session. Please rerun this cell to enable.\n",
              "      </output>\n",
              "      <script>// Copyright 2017 Google LLC\n",
              "//\n",
              "// Licensed under the Apache License, Version 2.0 (the \"License\");\n",
              "// you may not use this file except in compliance with the License.\n",
              "// You may obtain a copy of the License at\n",
              "//\n",
              "//      http://www.apache.org/licenses/LICENSE-2.0\n",
              "//\n",
              "// Unless required by applicable law or agreed to in writing, software\n",
              "// distributed under the License is distributed on an \"AS IS\" BASIS,\n",
              "// WITHOUT WARRANTIES OR CONDITIONS OF ANY KIND, either express or implied.\n",
              "// See the License for the specific language governing permissions and\n",
              "// limitations under the License.\n",
              "\n",
              "/**\n",
              " * @fileoverview Helpers for google.colab Python module.\n",
              " */\n",
              "(function(scope) {\n",
              "function span(text, styleAttributes = {}) {\n",
              "  const element = document.createElement('span');\n",
              "  element.textContent = text;\n",
              "  for (const key of Object.keys(styleAttributes)) {\n",
              "    element.style[key] = styleAttributes[key];\n",
              "  }\n",
              "  return element;\n",
              "}\n",
              "\n",
              "// Max number of bytes which will be uploaded at a time.\n",
              "const MAX_PAYLOAD_SIZE = 100 * 1024;\n",
              "\n",
              "function _uploadFiles(inputId, outputId) {\n",
              "  const steps = uploadFilesStep(inputId, outputId);\n",
              "  const outputElement = document.getElementById(outputId);\n",
              "  // Cache steps on the outputElement to make it available for the next call\n",
              "  // to uploadFilesContinue from Python.\n",
              "  outputElement.steps = steps;\n",
              "\n",
              "  return _uploadFilesContinue(outputId);\n",
              "}\n",
              "\n",
              "// This is roughly an async generator (not supported in the browser yet),\n",
              "// where there are multiple asynchronous steps and the Python side is going\n",
              "// to poll for completion of each step.\n",
              "// This uses a Promise to block the python side on completion of each step,\n",
              "// then passes the result of the previous step as the input to the next step.\n",
              "function _uploadFilesContinue(outputId) {\n",
              "  const outputElement = document.getElementById(outputId);\n",
              "  const steps = outputElement.steps;\n",
              "\n",
              "  const next = steps.next(outputElement.lastPromiseValue);\n",
              "  return Promise.resolve(next.value.promise).then((value) => {\n",
              "    // Cache the last promise value to make it available to the next\n",
              "    // step of the generator.\n",
              "    outputElement.lastPromiseValue = value;\n",
              "    return next.value.response;\n",
              "  });\n",
              "}\n",
              "\n",
              "/**\n",
              " * Generator function which is called between each async step of the upload\n",
              " * process.\n",
              " * @param {string} inputId Element ID of the input file picker element.\n",
              " * @param {string} outputId Element ID of the output display.\n",
              " * @return {!Iterable<!Object>} Iterable of next steps.\n",
              " */\n",
              "function* uploadFilesStep(inputId, outputId) {\n",
              "  const inputElement = document.getElementById(inputId);\n",
              "  inputElement.disabled = false;\n",
              "\n",
              "  const outputElement = document.getElementById(outputId);\n",
              "  outputElement.innerHTML = '';\n",
              "\n",
              "  const pickedPromise = new Promise((resolve) => {\n",
              "    inputElement.addEventListener('change', (e) => {\n",
              "      resolve(e.target.files);\n",
              "    });\n",
              "  });\n",
              "\n",
              "  const cancel = document.createElement('button');\n",
              "  inputElement.parentElement.appendChild(cancel);\n",
              "  cancel.textContent = 'Cancel upload';\n",
              "  const cancelPromise = new Promise((resolve) => {\n",
              "    cancel.onclick = () => {\n",
              "      resolve(null);\n",
              "    };\n",
              "  });\n",
              "\n",
              "  // Wait for the user to pick the files.\n",
              "  const files = yield {\n",
              "    promise: Promise.race([pickedPromise, cancelPromise]),\n",
              "    response: {\n",
              "      action: 'starting',\n",
              "    }\n",
              "  };\n",
              "\n",
              "  cancel.remove();\n",
              "\n",
              "  // Disable the input element since further picks are not allowed.\n",
              "  inputElement.disabled = true;\n",
              "\n",
              "  if (!files) {\n",
              "    return {\n",
              "      response: {\n",
              "        action: 'complete',\n",
              "      }\n",
              "    };\n",
              "  }\n",
              "\n",
              "  for (const file of files) {\n",
              "    const li = document.createElement('li');\n",
              "    li.append(span(file.name, {fontWeight: 'bold'}));\n",
              "    li.append(span(\n",
              "        `(${file.type || 'n/a'}) - ${file.size} bytes, ` +\n",
              "        `last modified: ${\n",
              "            file.lastModifiedDate ? file.lastModifiedDate.toLocaleDateString() :\n",
              "                                    'n/a'} - `));\n",
              "    const percent = span('0% done');\n",
              "    li.appendChild(percent);\n",
              "\n",
              "    outputElement.appendChild(li);\n",
              "\n",
              "    const fileDataPromise = new Promise((resolve) => {\n",
              "      const reader = new FileReader();\n",
              "      reader.onload = (e) => {\n",
              "        resolve(e.target.result);\n",
              "      };\n",
              "      reader.readAsArrayBuffer(file);\n",
              "    });\n",
              "    // Wait for the data to be ready.\n",
              "    let fileData = yield {\n",
              "      promise: fileDataPromise,\n",
              "      response: {\n",
              "        action: 'continue',\n",
              "      }\n",
              "    };\n",
              "\n",
              "    // Use a chunked sending to avoid message size limits. See b/62115660.\n",
              "    let position = 0;\n",
              "    do {\n",
              "      const length = Math.min(fileData.byteLength - position, MAX_PAYLOAD_SIZE);\n",
              "      const chunk = new Uint8Array(fileData, position, length);\n",
              "      position += length;\n",
              "\n",
              "      const base64 = btoa(String.fromCharCode.apply(null, chunk));\n",
              "      yield {\n",
              "        response: {\n",
              "          action: 'append',\n",
              "          file: file.name,\n",
              "          data: base64,\n",
              "        },\n",
              "      };\n",
              "\n",
              "      let percentDone = fileData.byteLength === 0 ?\n",
              "          100 :\n",
              "          Math.round((position / fileData.byteLength) * 100);\n",
              "      percent.textContent = `${percentDone}% done`;\n",
              "\n",
              "    } while (position < fileData.byteLength);\n",
              "  }\n",
              "\n",
              "  // All done.\n",
              "  yield {\n",
              "    response: {\n",
              "      action: 'complete',\n",
              "    }\n",
              "  };\n",
              "}\n",
              "\n",
              "scope.google = scope.google || {};\n",
              "scope.google.colab = scope.google.colab || {};\n",
              "scope.google.colab._files = {\n",
              "  _uploadFiles,\n",
              "  _uploadFilesContinue,\n",
              "};\n",
              "})(self);\n",
              "</script> "
            ]
          },
          "metadata": {}
        },
        {
          "output_type": "stream",
          "name": "stdout",
          "text": [
            "Saving ex2data.txt to ex2data (5).txt\n"
          ]
        }
      ]
    },
    {
      "cell_type": "code",
      "source": [
        "fig = plt.figure()\n",
        "ax = fig.add_subplot(111, projection='3d')\n",
        "n = 100\n",
        "for c, m, zl, zh in [('r', 'o', -50, -25)]:\n",
        "  xs = data[:, 0]\n",
        "  ys = data[:, 1]\n",
        "  zs = data[:, 2]\n",
        "  ax.scatter(xs, ys, zs, c=c, marker=m)\n",
        "  ax.set_xlabel('Size of the House')\n",
        "  ax.set_ylabel('Number of Bedrooms')\n",
        "  ax.set_zlabel('Price of the House')"
      ],
      "metadata": {
        "colab": {
          "base_uri": "https://localhost:8080/",
          "height": 416
        },
        "id": "ujCzuUqtl3ZG",
        "outputId": "be9fee03-98fb-41fb-f5ac-8499e1f7ddd0"
      },
      "execution_count": 44,
      "outputs": [
        {
          "output_type": "display_data",
          "data": {
            "text/plain": [
              "<Figure size 640x480 with 1 Axes>"
            ],
            "image/png": "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\n"
          },
          "metadata": {}
        }
      ]
    },
    {
      "cell_type": "markdown",
      "source": [
        "This codes shows a 3-dimensional graph visualization of the three features in the dataset."
      ],
      "metadata": {
        "id": "Hh37tssq2mf4"
      }
    },
    {
      "cell_type": "code",
      "source": [
        "X = data[:, :2]\n",
        "y = data[:, 2]\n",
        "\n",
        "m = y.size\n",
        "\n",
        "y.shape = (m, 1)"
      ],
      "metadata": {
        "id": "HbKLOyaOl3MV"
      },
      "execution_count": 45,
      "outputs": []
    },
    {
      "cell_type": "code",
      "source": [
        "#Scale features and set them to zero mean\n",
        "x, mean_r, std_r = feature_normalize(X)"
      ],
      "metadata": {
        "id": "26v-FqmMm5by"
      },
      "execution_count": 48,
      "outputs": []
    },
    {
      "cell_type": "code",
      "source": [
        "#Add a column of ones to X (interception data)\n",
        "it = ones(shape=(m, 3))\n",
        "it[:, 1:3] = x"
      ],
      "metadata": {
        "id": "fXMBl2tVnDsP"
      },
      "execution_count": 49,
      "outputs": []
    },
    {
      "cell_type": "code",
      "source": [
        "#Some gradient descent settings\n",
        "iterations = 1500\n",
        "alpha = 0.01"
      ],
      "metadata": {
        "id": "D4E7YseUnJuT"
      },
      "execution_count": 50,
      "outputs": []
    },
    {
      "cell_type": "code",
      "source": [
        "#Initialize Theta and Run Gradient Descent\n",
        "theta = zeros(shape=(3, 1))\n",
        "\n",
        "theta, J_history = gradient_descent(it, y, theta, alpha, iterations)\n",
        "print('theta:', theta.ravel())\n"
      ],
      "metadata": {
        "colab": {
          "base_uri": "https://localhost:8080/"
        },
        "id": "fF5273kenK9n",
        "outputId": "b61ee5c6-ebd9-4721-c9c9-108b6f5c882c"
      },
      "execution_count": 53,
      "outputs": [
        {
          "output_type": "stream",
          "name": "stdout",
          "text": [
            "theta: [340412.56301439 109370.05670466  -6500.61509507]\n"
          ]
        }
      ]
    },
    {
      "cell_type": "code",
      "source": [
        "plot(arange(iterations), J_history)\n",
        "xlabel('Iterations')\n",
        "ylabel('Cost Function')\n",
        "show()"
      ],
      "metadata": {
        "colab": {
          "base_uri": "https://localhost:8080/",
          "height": 465
        },
        "id": "BEDkEj0yoAew",
        "outputId": "3c873224-24ea-45fd-c018-5fb20128a935"
      },
      "execution_count": 54,
      "outputs": [
        {
          "output_type": "display_data",
          "data": {
            "text/plain": [
              "<Figure size 640x480 with 1 Axes>"
            ],
            "image/png": "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\n"
          },
          "metadata": {}
        }
      ]
    },
    {
      "cell_type": "markdown",
      "source": [
        "Here is a plot of the training progress to confirm that the error was in fact decreasing with each iteration of gradient descent.\n",
        "We can also plot the training progress to confirm that the error was in fact decreasing with each iteration of gradient descent."
      ],
      "metadata": {
        "id": "4u1871eDvu9C"
      }
    },
    {
      "cell_type": "code",
      "source": [
        "#Prediting the price of my apartment\n",
        "price = array([1.0,   ((750.0 - mean_r[0]) / std_r[0]), ((2 - mean_r[1]) / std_r[1])]).dot(theta)\n",
        "price\n",
        "print ('Predicted price of a 1650 sq-ft, 3 br house: %f' % (price))"
      ],
      "metadata": {
        "colab": {
          "base_uri": "https://localhost:8080/"
        },
        "id": "0opXOLhOoyhh",
        "outputId": "e2f5b981-5f1f-4b97-a295-7d14eac161ee"
      },
      "execution_count": 65,
      "outputs": [
        {
          "output_type": "stream",
          "name": "stdout",
          "text": [
            "Predicted price of a 1650 sq-ft, 3 br house: 176532.609621\n"
          ]
        }
      ]
    },
    {
      "cell_type": "markdown",
      "source": [
        "I decided to predict the cost of the apartment I live in. The good market price for the apartment I am living in is approximately 176532."
      ],
      "metadata": {
        "id": "9n-p3-lWqMlT"
      }
    }
  ]
}
